{
 "cells": [
  {
   "cell_type": "markdown",
   "metadata": {},
   "source": [
    "# Метод K ближайших соседей"
   ]
  },
  {
   "cell_type": "code",
   "execution_count": 1,
   "metadata": {},
   "outputs": [],
   "source": [
    "import numpy as np\n",
    "import scipy\n",
    "import math as m\n",
    "from matplotlib import pyplot as plt "
   ]
  },
  {
   "cell_type": "markdown",
   "metadata": {},
   "source": [
    "Показанный ниже код решает задачу, если известны обучающие примеры и соответствующие им метки. Примеры и метки можно передать в виде строк массива или просто списками. Это могут быть числа, строки — вообще все, что угодно. "
   ]
  },
  {
   "cell_type": "code",
   "execution_count": 2,
   "metadata": {},
   "outputs": [],
   "source": [
    "# Добавьте следующий класс в файл knn.py: \n",
    "\n",
    "class KnnClassifier (object) :\n",
    "  def __init__(self, labels, samples) :\n",
    "    self.labels = labels\n",
    "    self.samples = samples\n",
    "  def classify(self, point, k=3) :\n",
    "    # Вычислить расстояние до всех точек обучающего набора\n",
    "    dist = np.array([self.l2dist(point,s) for s in self.samples])\n",
    "    # отсортировать их\n",
    "    ndx = dist.argsort ()\n",
    "    # сохранить К ближайших в словаре\n",
    "    votes = {}\n",
    "    for i in range(k):\n",
    "        label = self.labels[ndx[i]]\n",
    "        votes.setdefault (label, 0)\n",
    "        votes[label] += 1\n",
    "    return max(votes)\n",
    "  def l2dist(self, p1,p2):\n",
    "    return m.sqrt(sum((p1-p2)**2))\n"
   ]
  },
  {
   "cell_type": "markdown",
   "metadata": {},
   "source": [
    "## Простой двумерный пример"
   ]
  },
  {
   "cell_type": "markdown",
   "metadata": {},
   "source": [
    "Создадим несколько простых наборов точек на плоскости и наглядно покажем, как работает классификатор. Следующий скрипт создает два набора точек, принадлежащих двум классам, и сохраняет данные с помощью модуля pickle:"
   ]
  },
  {
   "cell_type": "code",
   "execution_count": 3,
   "metadata": {},
   "outputs": [],
   "source": [
    "from numpy.random import randn\n",
    "import pickle\n",
    "# создать демонстрационные наборы точек на плоскости\n",
    "n = 200\n",
    "# два нормальных распределения\n",
    "class_1 = 0.6 * randn(n,2)\n",
    "class_2 = 1.2 * randn(n,2) + np.array([5,1])\n",
    "labels = np.hstack((np.ones(n),-np.ones(n)))\n",
    "# сохранить с помощью pickle\n",
    "with open('points_normal.pkl', 'wb') as f:\n",
    "    pickle.dump(class_1, f)\n",
    "    pickle.dump(class_2, f)\n",
    "    pickle.dump (labels, f)\n",
    "# нормальное распределение и кольцо вокруг него \n",
    "class_1 = 0.6 * randn(n,2)\n",
    "r= 0.8 * randn(n,1) + 5\n",
    "angle = 2*np.pi* randn(n,1)\n",
    "class_2 = np.hstack((r*np.cos (angle) ,r*np.sin(angle) ))\n",
    "labels = np.hstack((np.ones(n),-np.ones(n)))\n",
    "# сохранить с помощью pickle\n",
    "with open('points_ring.pkl', 'wb') as f:\n",
    "    pickle.dump(class_1,f)\n",
    "    pickle.dump(class_2, f)\n",
    "    pickle. dump (labels, f)"
   ]
  },
  {
   "cell_type": "markdown",
   "metadata": {},
   "source": [
    "Выполним скрипт дважды с разными именами файлов, например, сначала points_normal_test.pkl, а затем points_ring_test.pkl. Теперь у вас четыре файла с наборами данных, по два для каждого распределения. Один будем использоваться для обучения, другой — для тестирования."
   ]
  },
  {
   "cell_type": "code",
   "execution_count": 4,
   "metadata": {},
   "outputs": [],
   "source": [
    "#загрузить точки с помощью pickle\n",
    "with open('points_ring.pkl', 'rb') as f:\n",
    "    class_1 = pickle.load(f)\n",
    "    class_2 = pickle.load(f)\n",
    "    labels = pickle.load(f)\n",
    "    model = KnnClassifier(labels, np.vstack((class_1,class_2)))\n"
   ]
  },
  {
   "cell_type": "markdown",
   "metadata": {},
   "source": [
    "Он создает модель KNN -классификатора на основе данных в pickle-файле. "
   ]
  },
  {
   "cell_type": "code",
   "execution_count": 5,
   "metadata": {},
   "outputs": [
    {
     "name": "stdout",
     "output_type": "stream",
     "text": [
      "1.0\n"
     ]
    }
   ],
   "source": [
    "# загрузить тестовые данные с помощью pickle\n",
    "with open('points_ring.pkl', 'rb') as f:\n",
    "    class_l = pickle.load(f)\n",
    "    class_2 = pickle.load(f)\n",
    "    labels = pickle.load(f)\n",
    "# протестировать на первой точке\n",
    "print (model.classify(class_1[0]))\n"
   ]
  },
  {
   "cell_type": "markdown",
   "metadata": {},
   "source": [
    "Здесь мы загружаем другой набор данных (тестовый) и печатаем на консоли предсказанную метку класса для первой точки."
   ]
  },
  {
   "cell_type": "markdown",
   "metadata": {},
   "source": [
    "Чтобы визуализировать классификацию всех тестовых точек и показать, насколько хорошо классификатор разделяет два класса, добавим такие строчки:"
   ]
  },
  {
   "cell_type": "code",
   "execution_count": 6,
   "metadata": {},
   "outputs": [],
   "source": [
    "def plot_2D_boundary(plot_range, points, decisionfcn, labels, values=[0]):\n",
    "    \"\"\"Plot_range – это диапозон (xmin,xmax,ymin, ymax), points — список точек, decisionfcn – функция приниающая решение, labels – массив меток классов, который возвращает decisionfcn, values — список подлежащих показу изолиний решающей функции\"\"\"\n",
    "    clist = ['b','r','g','k', 'm', 'y'] # цвета соответствующие классам\n",
    "    # вычислить и нанести на сетку изолинию решающей функции\n",
    "    x=np.arange(plot_range[0],plot_range[1],.1)\n",
    "    y = np.arange(plot_range[2],plot_range[3],.1)\n",
    "    xx, yy = np.meshgrid(x,y)\n",
    "    xxx, yyy = xx.flatten(),yy.flatten() # списки x,y на  сетке\n",
    "    zz = np.array(decisionfcn(xxx, yyy) )\n",
    "    zz = zz.reshape(xx.shape)\n",
    "    # нанести на график изолинии из списка values\n",
    "    plt.contour(xx, yy, zz, values)\n",
    "    # Для каждого класса нанести на график точки обозначив '*' правильные', 'o' — не правильные\n",
    "    for i in range(len(points)):\n",
    "        d = decisionfcn(points[i][:,0],points[i] [:,1])\n",
    "        correct_ndx = labels[i]==d\n",
    "        incorrect_ndx = labels[i]!=d\n",
    "        plt.plot(points [i] [correct_ndx,0],points[i] [correct_ndx,1],'*', color=clist[i])\n",
    "        plt.plot (points [i] [incorrect_ndx, 0], points [i] [incorrect_ndx,1],'o', color=clist[i])\n",
    "    plt.axis ('equal')"
   ]
  },
  {
   "cell_type": "code",
   "execution_count": 7,
   "metadata": {},
   "outputs": [
    {
     "data": {
      "image/png": "[encoded data removed]",
      "text/plain": [
       "<Figure size 640x480 with 1 Axes>"
      ]
     },
     "metadata": {},
     "output_type": "display_data"
    }
   ],
   "source": [
    "# определить функцию построения графика\n",
    "def classify (x,y,model=model) :\n",
    "    return np.array([model.classify([xx,yy]) for (xx,yy) in zip(x,y)])\n",
    "\n",
    "# нанести на график границу между графиками\n",
    "plot_2D_boundary([-6, 6,-6, 6], [class_1, class_2],classify, [1,-1])\n",
    "plt.show()\n"
   ]
  }
 ],
 "metadata": {
  "kernelspec": {
   "display_name": "Python 3",
   "language": "python",
   "name": "python3"
  },
  "language_info": {
   "codemirror_mode": {
    "name": "ipython",
    "version": 3
   },
   "file_extension": ".py",
   "mimetype": "text/x-python",
   "name": "python",
   "nbconvert_exporter": "python",
   "pygments_lexer": "ipython3",
   "version": "3.10.2"
  }
 },
 "nbformat": 4,
 "nbformat_minor": 2
}
